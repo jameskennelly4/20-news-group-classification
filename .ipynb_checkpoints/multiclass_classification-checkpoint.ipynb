{
 "cells": [
  {
   "cell_type": "code",
   "execution_count": 2,
   "metadata": {},
   "outputs": [],
   "source": [
    "from sklearn.datasets import fetch_20newsgroups\n",
    "import pandas as pd\n",
    "\n",
    "def twenty_newsgroup_to_csv():\n",
    "    newsgroups_train = fetch_20newsgroups(subset='train', remove=('headers', 'footers', 'quotes'))\n",
    "\n",
    "    df = pd.DataFrame([newsgroups_train.data, newsgroups_train.target.tolist()]).T\n",
    "    df.columns = ['text', 'target']\n",
    "\n",
    "    targets = pd.DataFrame( newsgroups_train.target_names)\n",
    "    targets.columns=['title']\n",
    "\n",
    "    out = pd.merge(df, targets, left_on='target', right_index=True)\n",
    "    out['date'] = pd.to_datetime('now')\n",
    "    out.to_csv('20_newsgroup.csv')\n",
    "    \n",
    "twenty_newsgroup_to_csv()"
   ]
  },
  {
   "cell_type": "code",
   "execution_count": 68,
   "metadata": {},
   "outputs": [
    {
     "data": {
      "text/html": [
       "<div>\n",
       "<style scoped>\n",
       "    .dataframe tbody tr th:only-of-type {\n",
       "        vertical-align: middle;\n",
       "    }\n",
       "\n",
       "    .dataframe tbody tr th {\n",
       "        vertical-align: top;\n",
       "    }\n",
       "\n",
       "    .dataframe thead th {\n",
       "        text-align: right;\n",
       "    }\n",
       "</style>\n",
       "<table border=\"1\" class=\"dataframe\">\n",
       "  <thead>\n",
       "    <tr style=\"text-align: right;\">\n",
       "      <th></th>\n",
       "      <th>Unnamed: 0</th>\n",
       "      <th>text</th>\n",
       "      <th>target</th>\n",
       "      <th>title</th>\n",
       "      <th>date</th>\n",
       "    </tr>\n",
       "  </thead>\n",
       "  <tbody>\n",
       "    <tr>\n",
       "      <th>0</th>\n",
       "      <td>0</td>\n",
       "      <td>I was wondering if anyone out there could enli...</td>\n",
       "      <td>7</td>\n",
       "      <td>rec.autos</td>\n",
       "      <td>2021-03-30 22:10:07.639671</td>\n",
       "    </tr>\n",
       "    <tr>\n",
       "      <th>1</th>\n",
       "      <td>17</td>\n",
       "      <td>I recently posted an article asking what kind ...</td>\n",
       "      <td>7</td>\n",
       "      <td>rec.autos</td>\n",
       "      <td>2021-03-30 22:10:07.639671</td>\n",
       "    </tr>\n",
       "    <tr>\n",
       "      <th>2</th>\n",
       "      <td>29</td>\n",
       "      <td>\\nIt depends on your priorities.  A lot of peo...</td>\n",
       "      <td>7</td>\n",
       "      <td>rec.autos</td>\n",
       "      <td>2021-03-30 22:10:07.639671</td>\n",
       "    </tr>\n",
       "    <tr>\n",
       "      <th>3</th>\n",
       "      <td>56</td>\n",
       "      <td>an excellent automatic can be found in the sub...</td>\n",
       "      <td>7</td>\n",
       "      <td>rec.autos</td>\n",
       "      <td>2021-03-30 22:10:07.639671</td>\n",
       "    </tr>\n",
       "    <tr>\n",
       "      <th>4</th>\n",
       "      <td>64</td>\n",
       "      <td>: Ford and his automobile.  I need information...</td>\n",
       "      <td>7</td>\n",
       "      <td>rec.autos</td>\n",
       "      <td>2021-03-30 22:10:07.639671</td>\n",
       "    </tr>\n",
       "    <tr>\n",
       "      <th>...</th>\n",
       "      <td>...</td>\n",
       "      <td>...</td>\n",
       "      <td>...</td>\n",
       "      <td>...</td>\n",
       "      <td>...</td>\n",
       "    </tr>\n",
       "    <tr>\n",
       "      <th>11309</th>\n",
       "      <td>11210</td>\n",
       "      <td>Secrecy in Clipper Chip\\n\\nThe serial number o...</td>\n",
       "      <td>11</td>\n",
       "      <td>sci.crypt</td>\n",
       "      <td>2021-03-30 22:10:07.639671</td>\n",
       "    </tr>\n",
       "    <tr>\n",
       "      <th>11310</th>\n",
       "      <td>11217</td>\n",
       "      <td>Hi !\\n\\nI am interested in the source of FEAL ...</td>\n",
       "      <td>11</td>\n",
       "      <td>sci.crypt</td>\n",
       "      <td>2021-03-30 22:10:07.639671</td>\n",
       "    </tr>\n",
       "    <tr>\n",
       "      <th>11311</th>\n",
       "      <td>11243</td>\n",
       "      <td>The actual algorithm is classified, however, t...</td>\n",
       "      <td>11</td>\n",
       "      <td>sci.crypt</td>\n",
       "      <td>2021-03-30 22:10:07.639671</td>\n",
       "    </tr>\n",
       "    <tr>\n",
       "      <th>11312</th>\n",
       "      <td>11254</td>\n",
       "      <td>\\n\\tThis appears to be generic calling upon th...</td>\n",
       "      <td>11</td>\n",
       "      <td>sci.crypt</td>\n",
       "      <td>2021-03-30 22:10:07.639671</td>\n",
       "    </tr>\n",
       "    <tr>\n",
       "      <th>11313</th>\n",
       "      <td>11302</td>\n",
       "      <td>\\nProbably keep quiet and take it, lest they g...</td>\n",
       "      <td>11</td>\n",
       "      <td>sci.crypt</td>\n",
       "      <td>2021-03-30 22:10:07.639671</td>\n",
       "    </tr>\n",
       "  </tbody>\n",
       "</table>\n",
       "<p>11314 rows × 5 columns</p>\n",
       "</div>"
      ],
      "text/plain": [
       "       Unnamed: 0                                               text  target  \\\n",
       "0               0  I was wondering if anyone out there could enli...       7   \n",
       "1              17  I recently posted an article asking what kind ...       7   \n",
       "2              29  \\nIt depends on your priorities.  A lot of peo...       7   \n",
       "3              56  an excellent automatic can be found in the sub...       7   \n",
       "4              64  : Ford and his automobile.  I need information...       7   \n",
       "...           ...                                                ...     ...   \n",
       "11309       11210  Secrecy in Clipper Chip\\n\\nThe serial number o...      11   \n",
       "11310       11217  Hi !\\n\\nI am interested in the source of FEAL ...      11   \n",
       "11311       11243  The actual algorithm is classified, however, t...      11   \n",
       "11312       11254  \\n\\tThis appears to be generic calling upon th...      11   \n",
       "11313       11302  \\nProbably keep quiet and take it, lest they g...      11   \n",
       "\n",
       "           title                        date  \n",
       "0      rec.autos  2021-03-30 22:10:07.639671  \n",
       "1      rec.autos  2021-03-30 22:10:07.639671  \n",
       "2      rec.autos  2021-03-30 22:10:07.639671  \n",
       "3      rec.autos  2021-03-30 22:10:07.639671  \n",
       "4      rec.autos  2021-03-30 22:10:07.639671  \n",
       "...          ...                         ...  \n",
       "11309  sci.crypt  2021-03-30 22:10:07.639671  \n",
       "11310  sci.crypt  2021-03-30 22:10:07.639671  \n",
       "11311  sci.crypt  2021-03-30 22:10:07.639671  \n",
       "11312  sci.crypt  2021-03-30 22:10:07.639671  \n",
       "11313  sci.crypt  2021-03-30 22:10:07.639671  \n",
       "\n",
       "[11314 rows x 5 columns]"
      ]
     },
     "execution_count": 68,
     "metadata": {},
     "output_type": "execute_result"
    }
   ],
   "source": [
    "data_set = pd.read_csv('20_newsgroup.csv')\n",
    "data_set"
   ]
  },
  {
   "cell_type": "code",
   "execution_count": 76,
   "metadata": {},
   "outputs": [],
   "source": [
    "from sklearn.model_selection import train_test_split\n",
    "from sklearn.feature_extraction.text import CountVectorizer\n",
    "\n",
    "count_vect = CountVectorizer(stop_words='english')\n",
    "\n",
    "X = data_set.iloc[:,1]\n",
    "y = data_set.iloc[:,2]\n",
    "\n",
    "X = count_vect.fit_transform(X.values.astype('U'))\n",
    "\n",
    "X_train, X_test, y_train, y_test = train_test_split(X, y, random_state=0, test_size=0.25)"
   ]
  },
  {
   "cell_type": "code",
   "execution_count": 77,
   "metadata": {},
   "outputs": [
    {
     "data": {
      "text/plain": [
       "<8485x101322 sparse matrix of type '<class 'numpy.int64'>'\n",
       "\twith 565755 stored elements in Compressed Sparse Row format>"
      ]
     },
     "execution_count": 77,
     "metadata": {},
     "output_type": "execute_result"
    }
   ],
   "source": [
    "X_train"
   ]
  },
  {
   "cell_type": "code",
   "execution_count": 74,
   "metadata": {},
   "outputs": [
    {
     "data": {
      "text/plain": [
       "4630      2\n",
       "10943    11\n",
       "9313     15\n",
       "10283    18\n",
       "8548      9\n",
       "         ..\n",
       "4859      8\n",
       "3264     13\n",
       "9845     17\n",
       "10799    11\n",
       "2732     16\n",
       "Name: target, Length: 8485, dtype: int64"
      ]
     },
     "execution_count": 74,
     "metadata": {},
     "output_type": "execute_result"
    }
   ],
   "source": [
    "y_train"
   ]
  },
  {
   "cell_type": "code",
   "execution_count": 78,
   "metadata": {},
   "outputs": [
    {
     "data": {
      "text/plain": [
       "MultinomialNB()"
      ]
     },
     "execution_count": 78,
     "metadata": {},
     "output_type": "execute_result"
    }
   ],
   "source": [
    "from sklearn.naive_bayes import MultinomialNB\n",
    "classifier = MultinomialNB()\n",
    "classifier.fit(X_train, y_train)"
   ]
  },
  {
   "cell_type": "code",
   "execution_count": 79,
   "metadata": {},
   "outputs": [],
   "source": [
    "y_predict = classifier.predict(X_test)"
   ]
  },
  {
   "cell_type": "code",
   "execution_count": 81,
   "metadata": {},
   "outputs": [
    {
     "data": {
      "text/plain": [
       "0.656062212796041"
      ]
     },
     "execution_count": 81,
     "metadata": {},
     "output_type": "execute_result"
    }
   ],
   "source": [
    "classifier.score(X_test, y_test)"
   ]
  },
  {
   "cell_type": "code",
   "execution_count": 82,
   "metadata": {},
   "outputs": [
    {
     "name": "stdout",
     "output_type": "stream",
     "text": [
      "0.656062212796041\n",
      "              precision    recall  f1-score   support\n",
      "\n",
      "           0       0.81      0.40      0.54       124\n",
      "           1       0.52      0.61      0.56       139\n",
      "           2       1.00      0.04      0.08       148\n",
      "           3       0.60      0.67      0.64       156\n",
      "           4       0.73      0.68      0.70       120\n",
      "           5       0.50      0.89      0.64       148\n",
      "           6       0.87      0.67      0.76       152\n",
      "           7       0.60      0.66      0.63       157\n",
      "           8       0.71      0.60      0.65       136\n",
      "           9       0.94      0.77      0.85       153\n",
      "          10       0.92      0.83      0.87       155\n",
      "          11       0.50      0.81      0.62       142\n",
      "          12       0.89      0.44      0.59       154\n",
      "          13       0.84      0.86      0.85       145\n",
      "          14       0.71      0.74      0.72       140\n",
      "          15       0.57      0.88      0.69       167\n",
      "          16       0.80      0.66      0.72       145\n",
      "          17       0.51      0.83      0.63       145\n",
      "          18       0.53      0.71      0.61       111\n",
      "          19       0.65      0.12      0.20        92\n",
      "\n",
      "    accuracy                           0.66      2829\n",
      "   macro avg       0.71      0.64      0.63      2829\n",
      "weighted avg       0.71      0.66      0.64      2829\n",
      "\n"
     ]
    }
   ],
   "source": [
    "from sklearn.metrics import classification_report, accuracy_score\n",
    "\n",
    "print(accuracy_score(y_test, y_predict))\n",
    "print(classification_report(y_test, y_predict))"
   ]
  },
  {
   "cell_type": "code",
   "execution_count": null,
   "metadata": {},
   "outputs": [],
   "source": [
    "from sklearn.naive_bayes import MultinomialNB\n",
    "classifier = MultinomialNB()\n",
    "classifier.fit(X_train, y_train)\n",
    "y_predict = classifier.predict(X_test)"
   ]
  }
 ],
 "metadata": {
  "kernelspec": {
   "display_name": "Python 3",
   "language": "python",
   "name": "python3"
  },
  "language_info": {
   "codemirror_mode": {
    "name": "ipython",
    "version": 3
   },
   "file_extension": ".py",
   "mimetype": "text/x-python",
   "name": "python",
   "nbconvert_exporter": "python",
   "pygments_lexer": "ipython3",
   "version": "3.8.5"
  }
 },
 "nbformat": 4,
 "nbformat_minor": 4
}
