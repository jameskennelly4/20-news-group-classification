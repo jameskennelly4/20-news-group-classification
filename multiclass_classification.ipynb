{
 "cells": [
  {
   "cell_type": "code",
   "execution_count": 10,
   "metadata": {},
   "outputs": [],
   "source": [
    "from sklearn.datasets import fetch_20newsgroups\n",
    "import pandas as pd\n",
    "\n",
    "def twenty_newsgroup_to_csv():\n",
    "    newsgroups_train = fetch_20newsgroups(subset='train', remove=('headers', 'footers', 'quotes'))\n",
    "\n",
    "    df = pd.DataFrame([newsgroups_train.data, newsgroups_train.target.tolist()]).T\n",
    "    df.columns = ['text', 'target']\n",
    "\n",
    "    targets = pd.DataFrame( newsgroups_train.target_names)\n",
    "    targets.columns=['title']\n",
    "\n",
    "    out = pd.merge(df, targets, left_on='target', right_index=True)\n",
    "    out['date'] = pd.to_datetime('now')\n",
    "    out.to_csv('20_newsgroup.csv')\n",
    "    \n",
    "twenty_newsgroup_to_csv()"
   ]
  },
  {
   "cell_type": "code",
   "execution_count": 11,
   "metadata": {},
   "outputs": [
    {
     "data": {
      "text/html": [
       "<div>\n",
       "<style scoped>\n",
       "    .dataframe tbody tr th:only-of-type {\n",
       "        vertical-align: middle;\n",
       "    }\n",
       "\n",
       "    .dataframe tbody tr th {\n",
       "        vertical-align: top;\n",
       "    }\n",
       "\n",
       "    .dataframe thead th {\n",
       "        text-align: right;\n",
       "    }\n",
       "</style>\n",
       "<table border=\"1\" class=\"dataframe\">\n",
       "  <thead>\n",
       "    <tr style=\"text-align: right;\">\n",
       "      <th></th>\n",
       "      <th>Unnamed: 0</th>\n",
       "      <th>text</th>\n",
       "      <th>target</th>\n",
       "      <th>title</th>\n",
       "      <th>date</th>\n",
       "    </tr>\n",
       "  </thead>\n",
       "  <tbody>\n",
       "    <tr>\n",
       "      <th>0</th>\n",
       "      <td>0</td>\n",
       "      <td>I was wondering if anyone out there could enli...</td>\n",
       "      <td>7</td>\n",
       "      <td>rec.autos</td>\n",
       "      <td>2021-04-05 21:34:14.690721</td>\n",
       "    </tr>\n",
       "    <tr>\n",
       "      <th>1</th>\n",
       "      <td>17</td>\n",
       "      <td>I recently posted an article asking what kind ...</td>\n",
       "      <td>7</td>\n",
       "      <td>rec.autos</td>\n",
       "      <td>2021-04-05 21:34:14.690721</td>\n",
       "    </tr>\n",
       "    <tr>\n",
       "      <th>2</th>\n",
       "      <td>29</td>\n",
       "      <td>\\nIt depends on your priorities.  A lot of peo...</td>\n",
       "      <td>7</td>\n",
       "      <td>rec.autos</td>\n",
       "      <td>2021-04-05 21:34:14.690721</td>\n",
       "    </tr>\n",
       "    <tr>\n",
       "      <th>3</th>\n",
       "      <td>56</td>\n",
       "      <td>an excellent automatic can be found in the sub...</td>\n",
       "      <td>7</td>\n",
       "      <td>rec.autos</td>\n",
       "      <td>2021-04-05 21:34:14.690721</td>\n",
       "    </tr>\n",
       "    <tr>\n",
       "      <th>4</th>\n",
       "      <td>64</td>\n",
       "      <td>: Ford and his automobile.  I need information...</td>\n",
       "      <td>7</td>\n",
       "      <td>rec.autos</td>\n",
       "      <td>2021-04-05 21:34:14.690721</td>\n",
       "    </tr>\n",
       "    <tr>\n",
       "      <th>...</th>\n",
       "      <td>...</td>\n",
       "      <td>...</td>\n",
       "      <td>...</td>\n",
       "      <td>...</td>\n",
       "      <td>...</td>\n",
       "    </tr>\n",
       "    <tr>\n",
       "      <th>11309</th>\n",
       "      <td>11210</td>\n",
       "      <td>Secrecy in Clipper Chip\\n\\nThe serial number o...</td>\n",
       "      <td>11</td>\n",
       "      <td>sci.crypt</td>\n",
       "      <td>2021-04-05 21:34:14.690721</td>\n",
       "    </tr>\n",
       "    <tr>\n",
       "      <th>11310</th>\n",
       "      <td>11217</td>\n",
       "      <td>Hi !\\n\\nI am interested in the source of FEAL ...</td>\n",
       "      <td>11</td>\n",
       "      <td>sci.crypt</td>\n",
       "      <td>2021-04-05 21:34:14.690721</td>\n",
       "    </tr>\n",
       "    <tr>\n",
       "      <th>11311</th>\n",
       "      <td>11243</td>\n",
       "      <td>The actual algorithm is classified, however, t...</td>\n",
       "      <td>11</td>\n",
       "      <td>sci.crypt</td>\n",
       "      <td>2021-04-05 21:34:14.690721</td>\n",
       "    </tr>\n",
       "    <tr>\n",
       "      <th>11312</th>\n",
       "      <td>11254</td>\n",
       "      <td>\\n\\tThis appears to be generic calling upon th...</td>\n",
       "      <td>11</td>\n",
       "      <td>sci.crypt</td>\n",
       "      <td>2021-04-05 21:34:14.690721</td>\n",
       "    </tr>\n",
       "    <tr>\n",
       "      <th>11313</th>\n",
       "      <td>11302</td>\n",
       "      <td>\\nProbably keep quiet and take it, lest they g...</td>\n",
       "      <td>11</td>\n",
       "      <td>sci.crypt</td>\n",
       "      <td>2021-04-05 21:34:14.690721</td>\n",
       "    </tr>\n",
       "  </tbody>\n",
       "</table>\n",
       "<p>11314 rows × 5 columns</p>\n",
       "</div>"
      ],
      "text/plain": [
       "       Unnamed: 0                                               text  target  \\\n",
       "0               0  I was wondering if anyone out there could enli...       7   \n",
       "1              17  I recently posted an article asking what kind ...       7   \n",
       "2              29  \\nIt depends on your priorities.  A lot of peo...       7   \n",
       "3              56  an excellent automatic can be found in the sub...       7   \n",
       "4              64  : Ford and his automobile.  I need information...       7   \n",
       "...           ...                                                ...     ...   \n",
       "11309       11210  Secrecy in Clipper Chip\\n\\nThe serial number o...      11   \n",
       "11310       11217  Hi !\\n\\nI am interested in the source of FEAL ...      11   \n",
       "11311       11243  The actual algorithm is classified, however, t...      11   \n",
       "11312       11254  \\n\\tThis appears to be generic calling upon th...      11   \n",
       "11313       11302  \\nProbably keep quiet and take it, lest they g...      11   \n",
       "\n",
       "           title                        date  \n",
       "0      rec.autos  2021-04-05 21:34:14.690721  \n",
       "1      rec.autos  2021-04-05 21:34:14.690721  \n",
       "2      rec.autos  2021-04-05 21:34:14.690721  \n",
       "3      rec.autos  2021-04-05 21:34:14.690721  \n",
       "4      rec.autos  2021-04-05 21:34:14.690721  \n",
       "...          ...                         ...  \n",
       "11309  sci.crypt  2021-04-05 21:34:14.690721  \n",
       "11310  sci.crypt  2021-04-05 21:34:14.690721  \n",
       "11311  sci.crypt  2021-04-05 21:34:14.690721  \n",
       "11312  sci.crypt  2021-04-05 21:34:14.690721  \n",
       "11313  sci.crypt  2021-04-05 21:34:14.690721  \n",
       "\n",
       "[11314 rows x 5 columns]"
      ]
     },
     "execution_count": 11,
     "metadata": {},
     "output_type": "execute_result"
    }
   ],
   "source": [
    "data_set = pd.read_csv('20_newsgroup.csv')\n",
    "data_set"
   ]
  },
  {
   "cell_type": "code",
   "execution_count": 32,
   "metadata": {},
   "outputs": [],
   "source": [
    "from sklearn.model_selection import train_test_split\n",
    "from sklearn.feature_extraction.text import CountVectorizer\n",
    "\n",
    "count_vect = CountVectorizer(stop_words='english')\n",
    "\n",
    "X = data_set.iloc[:,1]\n",
    "y = data_set.iloc[:,3]\n",
    "\n",
    "X = count_vect.fit_transform(X.values.astype('U'))\n",
    "\n",
    "X_train, X_test, y_train, y_test = train_test_split(X, y, random_state=0, test_size=0.25)"
   ]
  },
  {
   "cell_type": "code",
   "execution_count": 33,
   "metadata": {},
   "outputs": [
    {
     "data": {
      "text/plain": [
       "<8485x101322 sparse matrix of type '<class 'numpy.int64'>'\n",
       "\twith 565755 stored elements in Compressed Sparse Row format>"
      ]
     },
     "execution_count": 33,
     "metadata": {},
     "output_type": "execute_result"
    }
   ],
   "source": [
    "X_train"
   ]
  },
  {
   "cell_type": "code",
   "execution_count": 34,
   "metadata": {},
   "outputs": [
    {
     "data": {
      "text/plain": [
       "4630     comp.os.ms-windows.misc\n",
       "10943                  sci.crypt\n",
       "9313      soc.religion.christian\n",
       "10283         talk.politics.misc\n",
       "8548          rec.sport.baseball\n",
       "                  ...           \n",
       "4859             rec.motorcycles\n",
       "3264                     sci.med\n",
       "9845       talk.politics.mideast\n",
       "10799                  sci.crypt\n",
       "2732          talk.politics.guns\n",
       "Name: title, Length: 8485, dtype: object"
      ]
     },
     "execution_count": 34,
     "metadata": {},
     "output_type": "execute_result"
    }
   ],
   "source": [
    "y_train"
   ]
  },
  {
   "cell_type": "code",
   "execution_count": 60,
   "metadata": {},
   "outputs": [
    {
     "data": {
      "text/plain": [
       "MultinomialNB()"
      ]
     },
     "execution_count": 60,
     "metadata": {},
     "output_type": "execute_result"
    }
   ],
   "source": [
    "from sklearn.naive_bayes import MultinomialNB\n",
    "mnb_classifier = MultinomialNB()\n",
    "mnb_classifier.fit(X_train, y_train)"
   ]
  },
  {
   "cell_type": "code",
   "execution_count": 61,
   "metadata": {},
   "outputs": [],
   "source": [
    "y_predict = mnb_classifier.predict(X_test)"
   ]
  },
  {
   "cell_type": "code",
   "execution_count": 62,
   "metadata": {},
   "outputs": [
    {
     "data": {
      "text/plain": [
       "0.656062212796041"
      ]
     },
     "execution_count": 62,
     "metadata": {},
     "output_type": "execute_result"
    }
   ],
   "source": [
    "mnb_classifier.score(X_test, y_test)"
   ]
  },
  {
   "cell_type": "code",
   "execution_count": 63,
   "metadata": {},
   "outputs": [
    {
     "name": "stdout",
     "output_type": "stream",
     "text": [
      "0.656062212796041\n",
      "                          precision    recall  f1-score   support\n",
      "\n",
      "             alt.atheism       0.81      0.40      0.54       124\n",
      "           comp.graphics       0.52      0.61      0.56       139\n",
      " comp.os.ms-windows.misc       1.00      0.04      0.08       148\n",
      "comp.sys.ibm.pc.hardware       0.60      0.67      0.64       156\n",
      "   comp.sys.mac.hardware       0.73      0.68      0.70       120\n",
      "          comp.windows.x       0.50      0.89      0.64       148\n",
      "            misc.forsale       0.87      0.67      0.76       152\n",
      "               rec.autos       0.60      0.66      0.63       157\n",
      "         rec.motorcycles       0.71      0.60      0.65       136\n",
      "      rec.sport.baseball       0.94      0.77      0.85       153\n",
      "        rec.sport.hockey       0.92      0.83      0.87       155\n",
      "               sci.crypt       0.50      0.81      0.62       142\n",
      "         sci.electronics       0.89      0.44      0.59       154\n",
      "                 sci.med       0.84      0.86      0.85       145\n",
      "               sci.space       0.71      0.74      0.72       140\n",
      "  soc.religion.christian       0.57      0.88      0.69       167\n",
      "      talk.politics.guns       0.80      0.66      0.72       145\n",
      "   talk.politics.mideast       0.51      0.83      0.63       145\n",
      "      talk.politics.misc       0.53      0.71      0.61       111\n",
      "      talk.religion.misc       0.65      0.12      0.20        92\n",
      "\n",
      "                accuracy                           0.66      2829\n",
      "               macro avg       0.71      0.64      0.63      2829\n",
      "            weighted avg       0.71      0.66      0.64      2829\n",
      "\n"
     ]
    }
   ],
   "source": [
    "from sklearn.metrics import classification_report, accuracy_score\n",
    "\n",
    "print(accuracy_score(y_test, y_predict))\n",
    "print(classification_report(y_test, y_predict))"
   ]
  },
  {
   "cell_type": "code",
   "execution_count": 49,
   "metadata": {},
   "outputs": [
    {
     "data": {
      "text/plain": [
       "0.6810166743211704"
      ]
     },
     "execution_count": 49,
     "metadata": {},
     "output_type": "execute_result"
    }
   ],
   "source": [
    "from sklearn.model_selection import cross_val_score\n",
    "\n",
    "scores = cross_val_score(mnb_classifier, X, y, cv=10)\n",
    "scores.mean()"
   ]
  },
  {
   "cell_type": "code",
   "execution_count": 50,
   "metadata": {},
   "outputs": [
    {
     "data": {
      "text/plain": [
       "0.011660238501585268"
      ]
     },
     "execution_count": 50,
     "metadata": {},
     "output_type": "execute_result"
    }
   ],
   "source": [
    "scores.std()"
   ]
  },
  {
   "cell_type": "code",
   "execution_count": 19,
   "metadata": {},
   "outputs": [
    {
     "data": {
      "text/plain": [
       "0.7182750088370449"
      ]
     },
     "execution_count": 19,
     "metadata": {},
     "output_type": "execute_result"
    }
   ],
   "source": [
    "from sklearn.naive_bayes import ComplementNB\n",
    "\n",
    "cnb_classifier = ComplementNB()\n",
    "cnb_classifier.fit(X_train, y_train)\n",
    "y_predict = cnb_classifier.predict(X_test)\n",
    "cnb_classifier.score(X_test, y_test)"
   ]
  },
  {
   "cell_type": "code",
   "execution_count": 20,
   "metadata": {},
   "outputs": [
    {
     "name": "stdout",
     "output_type": "stream",
     "text": [
      "0.7182750088370449\n",
      "              precision    recall  f1-score   support\n",
      "\n",
      "           0       0.62      0.56      0.59       124\n",
      "           1       0.67      0.68      0.67       139\n",
      "           2       0.81      0.20      0.32       148\n",
      "           3       0.61      0.68      0.64       156\n",
      "           4       0.75      0.77      0.76       120\n",
      "           5       0.54      0.91      0.68       148\n",
      "           6       0.80      0.62      0.70       152\n",
      "           7       0.60      0.73      0.66       157\n",
      "           8       0.87      0.76      0.81       136\n",
      "           9       0.94      0.84      0.89       153\n",
      "          10       0.86      0.90      0.88       155\n",
      "          11       0.74      0.85      0.79       142\n",
      "          12       0.79      0.56      0.65       154\n",
      "          13       0.83      0.88      0.86       145\n",
      "          14       0.78      0.84      0.81       140\n",
      "          15       0.63      0.87      0.73       167\n",
      "          16       0.78      0.72      0.75       145\n",
      "          17       0.66      0.88      0.76       145\n",
      "          18       0.72      0.70      0.71       111\n",
      "          19       0.64      0.20      0.30        92\n",
      "\n",
      "    accuracy                           0.72      2829\n",
      "   macro avg       0.73      0.71      0.70      2829\n",
      "weighted avg       0.73      0.72      0.71      2829\n",
      "\n"
     ]
    }
   ],
   "source": [
    "print(accuracy_score(y_test, y_predict))\n",
    "print(classification_report(y_test, y_predict))"
   ]
  },
  {
   "cell_type": "code",
   "execution_count": 21,
   "metadata": {},
   "outputs": [
    {
     "data": {
      "text/plain": [
       "0.6189466242488512"
      ]
     },
     "execution_count": 21,
     "metadata": {},
     "output_type": "execute_result"
    }
   ],
   "source": [
    "from sklearn.naive_bayes import GaussianNB\n",
    "\n",
    "gnb_classifier = GaussianNB()\n",
    "gnb_classifier.fit(X_train.toarray(), y_train)\n",
    "y_predict = gnb_classifier.predict(X_test.toarray())\n",
    "gnb_classifier.score(X_test.toarray(), y_test)"
   ]
  },
  {
   "cell_type": "code",
   "execution_count": 55,
   "metadata": {},
   "outputs": [
    {
     "data": {
      "text/plain": [
       "0.6319615368993949"
      ]
     },
     "execution_count": 55,
     "metadata": {},
     "output_type": "execute_result"
    }
   ],
   "source": [
    "from sklearn.model_selection import cross_val_score\n",
    "\n",
    "scores = cross_val_score(gnb_classifier, X.toarray(), y, cv=10)\n",
    "scores.mean()"
   ]
  },
  {
   "cell_type": "code",
   "execution_count": 56,
   "metadata": {},
   "outputs": [
    {
     "data": {
      "text/plain": [
       "0.015140335878844467"
      ]
     },
     "execution_count": 56,
     "metadata": {},
     "output_type": "execute_result"
    }
   ],
   "source": [
    "scores.std()"
   ]
  },
  {
   "cell_type": "code",
   "execution_count": 22,
   "metadata": {},
   "outputs": [
    {
     "name": "stdout",
     "output_type": "stream",
     "text": [
      "0.6189466242488512\n",
      "              precision    recall  f1-score   support\n",
      "\n",
      "           0       0.59      0.46      0.52       124\n",
      "           1       0.50      0.58      0.54       139\n",
      "           2       0.80      0.24      0.36       148\n",
      "           3       0.53      0.50      0.51       156\n",
      "           4       0.33      0.78      0.47       120\n",
      "           5       0.67      0.75      0.71       148\n",
      "           6       0.66      0.47      0.55       152\n",
      "           7       0.64      0.56      0.60       157\n",
      "           8       0.66      0.67      0.67       136\n",
      "           9       0.83      0.80      0.82       153\n",
      "          10       0.90      0.81      0.85       155\n",
      "          11       0.66      0.73      0.69       142\n",
      "          12       0.62      0.52      0.56       154\n",
      "          13       0.80      0.79      0.79       145\n",
      "          14       0.62      0.62      0.62       140\n",
      "          15       0.65      0.70      0.68       167\n",
      "          16       0.68      0.62      0.65       145\n",
      "          17       0.63      0.75      0.69       145\n",
      "          18       0.47      0.54      0.50       111\n",
      "          19       0.44      0.38      0.41        92\n",
      "\n",
      "    accuracy                           0.62      2829\n",
      "   macro avg       0.63      0.61      0.61      2829\n",
      "weighted avg       0.64      0.62      0.62      2829\n",
      "\n"
     ]
    }
   ],
   "source": [
    "print(accuracy_score(y_test, y_predict))\n",
    "print(classification_report(y_test, y_predict))"
   ]
  },
  {
   "cell_type": "code",
   "execution_count": 65,
   "metadata": {},
   "outputs": [
    {
     "data": {
      "text/plain": [
       "0.35489572287027216"
      ]
     },
     "execution_count": 65,
     "metadata": {},
     "output_type": "execute_result"
    }
   ],
   "source": [
    "from sklearn.naive_bayes import BernoulliNB\n",
    "\n",
    "bnb_classifier = BernoulliNB()\n",
    "bnb_classifier.fit(X_train, y_train)\n",
    "y_predict = bnb_classifier.predict(X_test)\n",
    "bnb_classifier.score(X_test, y_test)"
   ]
  },
  {
   "cell_type": "code",
   "execution_count": 24,
   "metadata": {},
   "outputs": [
    {
     "name": "stdout",
     "output_type": "stream",
     "text": [
      "0.7182750088370449\n",
      "              precision    recall  f1-score   support\n",
      "\n",
      "           0       0.62      0.56      0.59       124\n",
      "           1       0.67      0.68      0.67       139\n",
      "           2       0.81      0.20      0.32       148\n",
      "           3       0.61      0.68      0.64       156\n",
      "           4       0.75      0.77      0.76       120\n",
      "           5       0.54      0.91      0.68       148\n",
      "           6       0.80      0.62      0.70       152\n",
      "           7       0.60      0.73      0.66       157\n",
      "           8       0.87      0.76      0.81       136\n",
      "           9       0.94      0.84      0.89       153\n",
      "          10       0.86      0.90      0.88       155\n",
      "          11       0.74      0.85      0.79       142\n",
      "          12       0.79      0.56      0.65       154\n",
      "          13       0.83      0.88      0.86       145\n",
      "          14       0.78      0.84      0.81       140\n",
      "          15       0.63      0.87      0.73       167\n",
      "          16       0.78      0.72      0.75       145\n",
      "          17       0.66      0.88      0.76       145\n",
      "          18       0.72      0.70      0.71       111\n",
      "          19       0.64      0.20      0.30        92\n",
      "\n",
      "    accuracy                           0.72      2829\n",
      "   macro avg       0.73      0.71      0.70      2829\n",
      "weighted avg       0.73      0.72      0.71      2829\n",
      "\n"
     ]
    }
   ],
   "source": [
    "print(accuracy_score(y_test, y_predict))\n",
    "print(classification_report(y_test, y_predict))"
   ]
  },
  {
   "cell_type": "code",
   "execution_count": 25,
   "metadata": {},
   "outputs": [
    {
     "data": {
      "text/plain": [
       "0.20855425945563805"
      ]
     },
     "execution_count": 25,
     "metadata": {},
     "output_type": "execute_result"
    }
   ],
   "source": [
    "from sklearn.neighbors import KNeighborsClassifier\n",
    "\n",
    "knc_classifier = KNeighborsClassifier(n_neighbors=5)\n",
    "knc_classifier.fit(X_train, y_train)\n",
    "y_predict = knc_classifier.predict(X_test)\n",
    "knc_classifier.score(X_test, y_test)"
   ]
  },
  {
   "cell_type": "code",
   "execution_count": 26,
   "metadata": {},
   "outputs": [
    {
     "name": "stdout",
     "output_type": "stream",
     "text": [
      "0.20855425945563805\n",
      "              precision    recall  f1-score   support\n",
      "\n",
      "           0       0.09      0.44      0.15       124\n",
      "           1       0.13      0.25      0.17       139\n",
      "           2       0.17      0.40      0.24       148\n",
      "           3       0.16      0.17      0.17       156\n",
      "           4       0.09      0.23      0.13       120\n",
      "           5       0.33      0.22      0.27       148\n",
      "           6       0.19      0.13      0.16       152\n",
      "           7       0.13      0.18      0.15       157\n",
      "           8       0.18      0.13      0.15       136\n",
      "           9       0.29      0.29      0.29       153\n",
      "          10       0.51      0.21      0.30       155\n",
      "          11       0.76      0.27      0.40       142\n",
      "          12       0.55      0.12      0.19       154\n",
      "          13       0.55      0.24      0.33       145\n",
      "          14       0.61      0.08      0.14       140\n",
      "          15       0.58      0.17      0.26       167\n",
      "          16       0.49      0.15      0.23       145\n",
      "          17       0.53      0.28      0.37       145\n",
      "          18       0.34      0.09      0.14       111\n",
      "          19       0.22      0.08      0.11        92\n",
      "\n",
      "    accuracy                           0.21      2829\n",
      "   macro avg       0.35      0.21      0.22      2829\n",
      "weighted avg       0.35      0.21      0.22      2829\n",
      "\n"
     ]
    }
   ],
   "source": [
    "print(accuracy_score(y_test, y_predict))\n",
    "print(classification_report(y_test, y_predict))"
   ]
  },
  {
   "cell_type": "code",
   "execution_count": null,
   "metadata": {},
   "outputs": [],
   "source": []
  },
  {
   "cell_type": "code",
   "execution_count": null,
   "metadata": {},
   "outputs": [],
   "source": []
  }
 ],
 "metadata": {
  "kernelspec": {
   "display_name": "Python 3",
   "language": "python",
   "name": "python3"
  },
  "language_info": {
   "codemirror_mode": {
    "name": "ipython",
    "version": 3
   },
   "file_extension": ".py",
   "mimetype": "text/x-python",
   "name": "python",
   "nbconvert_exporter": "python",
   "pygments_lexer": "ipython3",
   "version": "3.8.5"
  }
 },
 "nbformat": 4,
 "nbformat_minor": 4
}
